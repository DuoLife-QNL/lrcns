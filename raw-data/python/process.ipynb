{
 "cells": [
  {
   "cell_type": "code",
   "execution_count": 1,
   "metadata": {},
   "outputs": [],
   "source": [
    "# -*- coding: UTF-8 -*-\n",
    "import os\n",
    "import sys\n",
    "import json\n",
    "import datetime"
   ]
  },
  {
   "cell_type": "code",
   "execution_count": 2,
   "metadata": {},
   "outputs": [],
   "source": [
    "RAW_DIR = \"../raw/\"\n",
    "TRANSFORMED_DIR = \"../transformed/\"\n",
    "OUTPUT = \"output.txt\"\n",
    "GBTOUTPUT = \"gbt.txt\"\n",
    "TITLEOUTPUT = \"title.txt\""
   ]
  },
  {
   "cell_type": "code",
   "execution_count": 3,
   "metadata": {},
   "outputs": [
    {
     "name": "stdout",
     "output_type": "stream",
     "text": [
      "skip .DS_Store\n",
      "skip 动态嵌入（已合并至上层）\n",
      "['Multimedia Social Relationship Network_多媒体社交关系网络研究.txt', 'Social Influence Prediction_社会影响预测.txt', 'Dynamic Embedding (Temporal)_动态嵌入.txt', 'Knowledge Graph Embedding_知识图谱.txt', 'InformationDiffusionDetection_信息扩散预测.txt', 'Network  Fusion_网络融合.txt', 'Community Detection_社团检测.txt', 'Graph based Recommendation_基图推荐.txt', 'GraphVite_GV系统介绍.txt']\n",
      "9\n"
     ]
    }
   ],
   "source": [
    "addr_list = os.listdir(RAW_DIR)\n",
    "for fname in list(addr_list):\n",
    "    addr = RAW_DIR + fname\n",
    "    if(fname[0]=='.' or addr == OUTPUT or os.path.isdir(addr)):\n",
    "        addr_list.remove(fname)\n",
    "        print(\"skip \" + fname )\n",
    "        continue\n",
    "print(addr_list)\n",
    "print(len(addr_list))"
   ]
  },
  {
   "cell_type": "code",
   "execution_count": 4,
   "metadata": {},
   "outputs": [
    {
     "name": "stdout",
     "output_type": "stream",
     "text": [
      "52\n",
      "50\n",
      "40\n",
      "59\n",
      "30\n",
      "40\n",
      "40\n",
      "40\n",
      "10\n",
      "361\n"
     ]
    }
   ],
   "source": [
    "all_arr = []\n",
    "for fname in addr_list:\n",
    "    addr = RAW_DIR + fname\n",
    "    with open(addr,'r') as f:\n",
    "        farr = json.load(f)\n",
    "        print(len(farr))\n",
    "        all_arr.extend(list(farr))\n",
    "print(len(all_arr))"
   ]
  },
  {
   "cell_type": "code",
   "execution_count": null,
   "metadata": {},
   "outputs": [],
   "source": []
  },
  {
   "cell_type": "code",
   "execution_count": 5,
   "metadata": {},
   "outputs": [],
   "source": [
    "with open( TRANSFORMED_DIR + OUTPUT,'w') as o:\n",
    "    o.write(json.dumps(all_arr,ensure_ascii=False ))"
   ]
  },
  {
   "cell_type": "code",
   "execution_count": 11,
   "metadata": {},
   "outputs": [],
   "source": [
    "def statistic( papers ):\n",
    "    res = {}\n",
    "    missing = {}\n",
    "    missing_ccf = 0\n",
    "    for paper in papers:\n",
    "        if (\"ccfClass\" not in paper) or paper[\"ccfClass\"] == \"\":\n",
    "            missing_ccf += 1    \n",
    "        missing[\"ccfClass\"] = missing_ccf \n",
    "\n",
    "    res[\"missing\"] = missing\n",
    "    return res"
   ]
  },
  {
   "cell_type": "code",
   "execution_count": 12,
   "metadata": {},
   "outputs": [],
   "source": [
    "# group by topic\n",
    "gbts_arr = []\n",
    "for fname in addr_list:\n",
    "    gbt_obj = {}\n",
    "    addr = RAW_DIR + fname\n",
    "#     添加话题\n",
    "    en_topic,cn_topic = fname.replace(\".txt\",\"\").split(\"_\")\n",
    "    topic = {\"en\":en_topic,\"cn\":cn_topic}\n",
    "    gbt_obj[\"topic\"] = topic\n",
    "#     话题下论文\n",
    "    with open(addr,'r') as f:\n",
    "        farr = json.load(f)\n",
    "        gbt_obj[\"sta\"] = statistic(farr) \n",
    "        gbt_obj[\"papers\"] = farr\n",
    "        \n",
    "\n",
    "    gbts_arr.append(dict(gbt_obj))\n",
    "    \n",
    "with open(TRANSFORMED_DIR + GBTOUTPUT,'w') as o:\n",
    "    o.write(json.dumps(gbts_arr[2],ensure_ascii=False))\n"
   ]
  },
  {
   "cell_type": "code",
   "execution_count": 17,
   "metadata": {},
   "outputs": [
    {
     "name": "stdout",
     "output_type": "stream",
     "text": [
      "361\n"
     ]
    }
   ],
   "source": [
    "title_arr = []\n",
    "for fname in addr_list:\n",
    "    addr = RAW_DIR + fname\n",
    "    with open(addr,'r') as f:\n",
    "        farr = json.load(f)\n",
    "        for fobj in farr:\n",
    "            title_arr.append(str(fobj[\"title\"]))\n",
    "with open(TRANSFORMED_DIR + TITLEOUTPUT, 'w') as o:\n",
    "    o.write(json.dumps(title_arr,ensure_ascii=False))\n",
    "print(len(title_arr))\n"
   ]
  },
  {
   "cell_type": "code",
   "execution_count": null,
   "metadata": {},
   "outputs": [],
   "source": []
  }
 ],
 "metadata": {
  "kernelspec": {
   "display_name": "Python 3",
   "language": "python",
   "name": "python3"
  },
  "language_info": {
   "codemirror_mode": {
    "name": "ipython",
    "version": 3
   },
   "file_extension": ".py",
   "mimetype": "text/x-python",
   "name": "python",
   "nbconvert_exporter": "python",
   "pygments_lexer": "ipython3",
   "version": "3.7.4"
  }
 },
 "nbformat": 4,
 "nbformat_minor": 2
}
