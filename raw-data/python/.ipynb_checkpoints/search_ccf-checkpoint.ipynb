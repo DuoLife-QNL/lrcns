{
 "cells": [
  {
   "cell_type": "code",
   "execution_count": 3,
   "metadata": {},
   "outputs": [],
   "source": [
    "import csv\n",
    "import os"
   ]
  },
  {
   "cell_type": "code",
   "execution_count": 114,
   "metadata": {},
   "outputs": [],
   "source": [
    "def search_ccf(ccf_all, s):\n",
    "    level = \"\"\n",
    "    field = \"\"\n",
    "    cORj = \"\"\n",
    "    col = -1\n",
    "#     print(ccf_all)\n",
    "    for line in reversed(ccf_all):\n",
    "        if col == -1:\n",
    "            for word in line:\n",
    "                if word == s:\n",
    "                    col = line.index(s)\n",
    "                    print(col)\n",
    "                    break\n",
    "        else:\n",
    "            if len(line[0])>1 and line[0][1]=='、' and level == \"\":\n",
    "                level = line[0][2]\n",
    "                print(level)\n",
    "            if len(line[0])>10 and line[0][:2]==\"中国\" and field == \"\":\n",
    "                field = line[0][17:-1]\n",
    "                cORj = line[0][13:15]\n",
    "                print(field)\n",
    "                \n",
    "    return {\"level\":level,\"field\":field,\"type\":cORj}\n",
    "        \n",
    "            "
   ]
  },
  {
   "cell_type": "code",
   "execution_count": 116,
   "metadata": {},
   "outputs": [
    {
     "name": "stdout",
     "output_type": "stream",
     "text": [
      "1\n",
      "C\n",
      "网络与信息安全\n",
      "{'level': 'C', 'field': '网络与信息安全', 'type': '会议'}\n"
     ]
    }
   ],
   "source": [
    "def main():\n",
    "    PATH = \"/Users/Halloween/Desktop/Study/复杂网络/lrcns/raw-data/ccf\"\n",
    "    addr_list = []\n",
    "    ccf_all = []\n",
    "    for addr in os.walk(PATH):\n",
    "        for fname in addr[2]:\n",
    "            if(fname[0]!='.' and fname.split('.')[-1]==\"csv\"):\n",
    "                addr_list.append(str(addr[0]+\"/\"+fname))\n",
    "    with open(\"/Users/Halloween/Desktop/Study/复杂网络/lrcns/raw-data/ccf_all.csv\",'w+') as o:\n",
    "        writer = csv.writer(o)\n",
    "        addr_list.sort()\n",
    "        for addr in addr_list:\n",
    "#             if(len(addr)==74):\n",
    "#                 os.rename(addr,addr[:-13]+\"0\"+addr[-13:])\n",
    "            with open(addr,encoding = 'utf-8') as f:\n",
    "                reader = csv.reader(f)\n",
    "                for line in reader:\n",
    "                    ccf_all.append(line)\n",
    "                    writer.writerow(line)\n",
    "    print(search_ccf(ccf_all,\"FC\"))\n",
    "\n",
    "if __name__ == \"__main__\":\n",
    "    main()"
   ]
  },
  {
   "cell_type": "code",
   "execution_count": null,
   "metadata": {},
   "outputs": [],
   "source": []
  }
 ],
 "metadata": {
  "kernelspec": {
   "display_name": "Python 3",
   "language": "python",
   "name": "python3"
  },
  "language_info": {
   "codemirror_mode": {
    "name": "ipython",
    "version": 3
   },
   "file_extension": ".py",
   "mimetype": "text/x-python",
   "name": "python",
   "nbconvert_exporter": "python",
   "pygments_lexer": "ipython3",
   "version": "3.7.4"
  }
 },
 "nbformat": 4,
 "nbformat_minor": 2
}
